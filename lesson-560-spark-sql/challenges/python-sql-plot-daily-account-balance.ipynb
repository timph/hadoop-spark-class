{
 "cells": [
  {
   "cell_type": "markdown",
   "metadata": {},
   "source": [
    "# Plot Line Graph of Daily Account Balance (sad)"
   ]
  },
  {
   "cell_type": "code",
   "execution_count": null,
   "metadata": {},
   "outputs": [],
   "source": [
    "from pyspark.sql import SparkSession\n",
    "from pyspark.sql.window import Window\n",
    "from pyspark.sql.functions import sum, round\n",
    "\n",
    "spark = SparkSession.builder.appName(\"Python Analytic Functions\").getOrCreate()\n",
    " \n",
    "text = spark.sparkContext.textFile(\"/home/jovyan/Resources/tx.csv\")\n",
    "\n",
    "txns = text.map(lambda st: st.split(\",\")).map(lambda el: (el[0], el[1], float(el[2]))).toDF([\"date\", \"desc\", \"amount\"])\n",
    "\n",
    "# totalling amounts over dates\n",
    "days = txns.groupBy(\"date\").agg(sum(\"amount\").alias(\"amount\"))\n",
    "\n",
    "# using Window Functions to accumulate balance\n",
    "wind = Window.orderBy(\"date\")\n",
    "totl = days.withColumn(\"total\", sum(\"amount\").over(wind))\n",
    "rnds = totl.select(totl[\"date\"], round(totl[\"total\"], 2).alias(\"total\"))\n",
    "coll = rnds.collect()\n",
    "\n",
    "labels = list(map(lambda x: x[0], coll))\n",
    "values = list(map(lambda x: x[1], coll))\n",
    "\n",
    "# for graph to be legible we pick every 10th element\n",
    "sel_labs = labels[::10]\n",
    "sel_vals = values[::10]\n",
    "\n",
    "import matplotlib.pyplot as plt\n",
    "import numpy as np\n",
    "\n",
    "# rotate x labels for legibility\n",
    "plt.plot(sel_labs, sel_vals, color='red')\n",
    "plt.xticks(np.arange(len(sel_labs)), sel_labs, rotation='vertical')\n",
    "plt.xlabel('Date')\n",
    "plt.ylabel('Balance')\n",
    "plt.title('Daily Account Balance')\n",
    "plt.grid(True)\n",
    "plt.show()"
   ]
  }
 ],
 "metadata": {
  "kernelspec": {
   "display_name": "Python 3",
   "language": "python",
   "name": "python3"
  },
  "language_info": {
   "codemirror_mode": {
    "name": "ipython",
    "version": 3
   },
   "file_extension": ".py",
   "mimetype": "text/x-python",
   "name": "python",
   "nbconvert_exporter": "python",
   "pygments_lexer": "ipython3",
   "version": "3.6.5"
  }
 },
 "nbformat": 4,
 "nbformat_minor": 2
}
