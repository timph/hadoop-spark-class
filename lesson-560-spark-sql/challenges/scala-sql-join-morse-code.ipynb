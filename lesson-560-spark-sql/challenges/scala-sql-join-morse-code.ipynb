{
 "cells": [
  {
   "cell_type": "markdown",
   "metadata": {},
   "source": [
    "# Validate Optimality of Morse Code"
   ]
  },
  {
   "cell_type": "code",
   "execution_count": null,
   "metadata": {},
   "outputs": [],
   "source": [
    "import org.apache.spark.sql.expressions.Window\n",
    "import org.apache.spark.sql.functions.row_number\n",
    "\n",
    "import org.apache.spark.sql.SparkSession\n",
    "\n",
    "val spark = SparkSession.builder.appName(\"Scala Morse Code Optimality Analysis\").getOrCreate()\n",
    " \n",
    "import spark.implicits._\n",
    "\n",
    "def length(s: String): Int = {\n",
    "    s.toList.foldLeft(0)((r, c) => r + (if (c == '.') 1 else 3))\n",
    "}\n",
    "\n",
    "val text = spark.sparkContext.textFile(\"/home/jovyan/Resources/sherlock-holmes.txt\")\n",
    "val lowr = text.flatMap(_.toUpperCase).filter(s => s >= 'A' && s <= 'Z').map(c => c.toString)\n",
    "\n",
    "val pair = lowr.map(c => (c, 1))\n",
    "val cnts = pair.reduceByKey(_ + _).toDF(\"letter\", \"count\").orderBy(\"count\").persist\n",
    "\n",
    "cnts.rdd.collect.foreach(println(_))\n",
    "\n",
    "val mrse = spark.sparkContext.textFile(\"/home/jovyan/Resources/morse-code.txt\")\n",
    "val code = mrse.map(s => s.split(\" \")).map(s => (s(0), length(s(1)))).toDF(\"letter\", \"length\").orderBy(\"length\").persist\n",
    "code.rdd.collect.foreach(println(_))\n",
    "\n",
    "val desc = cnts.join(code, \"letter\").persist\n",
    "desc.createOrReplaceTempView(\"desc\")\n",
    "\n",
    "val anom = spark.sql(\"select * from desc l join desc r on r.count > l.count and r.length > l.length\")\n",
    "anom.rdd.collect.foreach(println(_))\n"
   ]
  }
 ],
 "metadata": {
  "kernelspec": {
   "display_name": "Apache Toree - Scala",
   "language": "scala",
   "name": "apache_toree_scala"
  },
  "language_info": {
   "codemirror_mode": "text/x-scala",
   "file_extension": ".scala",
   "mimetype": "text/x-scala",
   "name": "scala",
   "pygments_lexer": "scala",
   "version": "2.11.8"
  }
 },
 "nbformat": 4,
 "nbformat_minor": 2
}
