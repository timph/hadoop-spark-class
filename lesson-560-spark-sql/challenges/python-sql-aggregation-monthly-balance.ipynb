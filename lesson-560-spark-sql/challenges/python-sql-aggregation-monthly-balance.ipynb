{
 "cells": [
  {
   "cell_type": "markdown",
   "metadata": {},
   "source": [
    "# Find Aggregated Balance\n"
   ]
  },
  {
   "cell_type": "markdown",
   "metadata": {},
   "source": [
    "-  #### Find the amount totals for every month\n",
    "\n",
    "-  #### Find the account balance at the end of each month\n"
   ]
  },
  {
   "cell_type": "code",
   "execution_count": null,
   "metadata": {},
   "outputs": [],
   "source": [
    "from pyspark.sql import SparkSession\n",
    "\n",
    "import pyspark.sql.functions as func\n",
    "\n",
    "spark = SparkSession.builder.appName(\"Python Spark SQL\").getOrCreate()\n",
    "\n",
    "lines = spark.sparkContext.textFile(\"/home/jovyan/Resources/tx.csv\")\n",
    "\n",
    "txns = lines.map(lambda st: st.split(\",\")).map(lambda el: (el[0], el[1], float(el[2])))\n",
    "df = txns.toDF([\"date\", \"desc\", \"amount\"])\n",
    "\n",
    "txn_month = df.select(df[\"date\"][1:7].alias(\"month\"), df[\"amount\"])\n",
    "\n",
    "txn_group = txn_month.groupBy(\"month\").agg(func.sum(\"amount\").alias(\"amount\")).orderBy(\"month\")\n",
    "txn_group.show()\n",
    "\n",
    "tot = 0\n",
    "for mon in txn_group.collect():\n",
    "   tot = tot + mon[1]\n",
    "   print(mon[0], round(tot, 2))"
   ]
  }
 ],
 "metadata": {
  "kernelspec": {
   "display_name": "Python 3",
   "language": "python",
   "name": "python3"
  },
  "language_info": {
   "codemirror_mode": {
    "name": "ipython",
    "version": 3
   },
   "file_extension": ".py",
   "mimetype": "text/x-python",
   "name": "python",
   "nbconvert_exporter": "python",
   "pygments_lexer": "ipython3",
   "version": "3.6.5"
  }
 },
 "nbformat": 4,
 "nbformat_minor": 2
}
