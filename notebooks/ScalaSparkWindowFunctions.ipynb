{
 "cells": [
  {
   "cell_type": "code",
   "execution_count": null,
   "metadata": {},
   "outputs": [],
   "source": [
    "import org.apache.spark.sql.expressions.Window\n",
    "import org.apache.spark.sql.functions.row_number\n",
    "\n",
    "import org.apache.spark.sql.SparkSession\n",
    "\n",
    "val spark = SparkSession.builder.appName(\"Scala Analytic Functions\").getOrCreate()\n",
    " \n",
    "import spark.implicits._\n",
    "\n",
    "val text = spark.sparkContext.textFile(\"/home/jovyan/Resources/tx.csv\")\n",
    "\n",
    "case class Transaction(date: String, desc: String, amount: Int)\n",
    "\n",
    "val txns = text.map(s => s.split(\",\")).map(a => Transaction(a(0), a(1), (a(2).toFloat).round))\n",
    "  .filter(t => t.amount < 0).toDF\n",
    "\n",
    "// Use Spark Window functions\n",
    "\n",
    "val w = Window.partitionBy($\"date\").orderBy($\"amount\")\n",
    "val rnkd = txns.withColumn(\"rank\", row_number.over(w))\n",
    "val seld = rnkd.filter($\"rank\" < 4).drop(\"rank\")\n",
    "\n",
    "seld.show\n"
   ]
  }
 ],
 "metadata": {
  "kernelspec": {
   "display_name": "Apache Toree - Scala",
   "language": "scala",
   "name": "apache_toree_scala"
  },
  "language_info": {
   "codemirror_mode": "text/x-scala",
   "file_extension": ".scala",
   "mimetype": "text/x-scala",
   "name": "scala",
   "pygments_lexer": "scala",
   "version": "2.11.8"
  }
 },
 "nbformat": 4,
 "nbformat_minor": 2
}
