{
 "cells": [
  {
   "cell_type": "markdown",
   "metadata": {},
   "source": [
    "# Work in progress"
   ]
  },
  {
   "cell_type": "code",
   "execution_count": 1,
   "metadata": {},
   "outputs": [],
   "source": [
    "import pyspark\n",
    "\n",
    "sc = pyspark.SparkContext('local[*]')\n"
   ]
  },
  {
   "cell_type": "code",
   "execution_count": 2,
   "metadata": {},
   "outputs": [
    {
     "name": "stdout",
     "output_type": "stream",
     "text": [
      "1265\n"
     ]
    }
   ],
   "source": [
    "from numpy import array\n",
    "from math import pow\n",
    "\n",
    "from pyspark.mllib.clustering import KMeans, KMeansModel\n",
    "\n",
    "file = \"/home/jovyan/Resources/tx.csv\"\n",
    "text = sc.textFile(file)\n",
    "\n",
    "print(text.count())"
   ]
  },
  {
   "cell_type": "code",
   "execution_count": 4,
   "metadata": {},
   "outputs": [
    {
     "name": "stdout",
     "output_type": "stream",
     "text": [
      "Cluster centers\n",
      "0 -819.5775\n",
      "1 -13.2889871944\n",
      "2 2209.03\n",
      "3 825.062\n",
      "4 -316.894\n",
      "5 1440.24\n",
      "6 137.718378378\n",
      "7 -155.603709677\n",
      "8 -60.8099625468\n",
      "9 389.824615385\n",
      "Predictions\n",
      "-5.0 1\n",
      "5.0 1\n",
      "-50.0 8\n",
      "50.0 1\n",
      "-500.0 4\n",
      "500.0 9\n",
      "-5000.0 0\n",
      "5000.0 2\n"
     ]
    }
   ],
   "source": [
    "from numpy import array\n",
    "from math import pow\n",
    "\n",
    "from pyspark.mllib.clustering import KMeans, KMeansModel\n",
    "\n",
    "file = \"/home/jovyan/Resources/tx.csv\"\n",
    "text = sc.textFile(file)\n",
    "\n",
    "txns = text.map(lambda st: st.split(\",\")).map(lambda el: (el[0], el[1], float(el[2])))\n",
    "\n",
    "# get the amounts for clustering training\n",
    "amnts = txns.map(lambda v: array([v[2]]))\n",
    "\n",
    "clusterCount = 10\n",
    "iterationCount = 20\n",
    "model = KMeans.train(amnts, clusterCount, iterationCount)\n",
    "\n",
    "print(\"Cluster centers\")\n",
    "for c, value in enumerate(model.centers):\n",
    "    print(c, value[0])\n",
    "\n",
    "# generate the amounts for clustering: +- 5*10^i, i=0..3\n",
    "vals = sc.parallelize(range(4)).map(lambda i: pow(10, i)).flatMap(lambda x: array([-5*x, 5*x])).map(lambda v: array([v]))\n",
    "\n",
    "# predict the clusters for the amounts\n",
    "clsd = vals.map(lambda s: (s, model.predict(s)))\n",
    "\n",
    "print(\"Predictions\")\n",
    "for value, c in clsd.collect():\n",
    "    print(value[0], c)"
   ]
  }
 ],
 "metadata": {
  "kernelspec": {
   "display_name": "Python 3",
   "language": "python",
   "name": "python3"
  },
  "language_info": {
   "codemirror_mode": {
    "name": "ipython",
    "version": 3
   },
   "file_extension": ".py",
   "mimetype": "text/x-python",
   "name": "python",
   "nbconvert_exporter": "python",
   "pygments_lexer": "ipython3",
   "version": "3.6.5"
  }
 },
 "nbformat": 4,
 "nbformat_minor": 2
}
