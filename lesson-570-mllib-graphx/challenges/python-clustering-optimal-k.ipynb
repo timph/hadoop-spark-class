{
 "cells": [
  {
   "cell_type": "markdown",
   "metadata": {},
   "source": [
    "# Find \"optimal\" number of clusters for transaction amounts"
   ]
  },
  {
   "cell_type": "markdown",
   "metadata": {},
   "source": [
    "In the class solution the number of desired clusters (`k`) is passed to the algorithm.\n",
    "\n",
    "How do we know that this number is optimal? Well, we don't but what we can do is assess how good it is by calculating the total distance of all clustered points from their cluster centers and compare it between different ks. This total distance is called Within Set Sum of Squared Error (`WSSSE`) and it's used by the algorithm to evaluate the quality of the clustering for a given k. You can easily compute `WSSSE` yourself or you can obtain it by calling `computeCost` function on the model.\n",
    "\n",
    "So, the lower `WSSSE` the better, but not quite as you can easily see that `WSSSE` is 0 when the number of desired clusters is the same as the number of clustered points. You cannot beat that!\n",
    "\n",
    "What we're looking for, instead, is the point where WSSSE starts decreasing slowly with increased number of k.\n",
    "\n",
    "When you plot WSSSE the optimal `k` is where there is an \"elbow\". In our case 6."
   ]
  },
  {
   "cell_type": "code",
   "execution_count": null,
   "metadata": {},
   "outputs": [],
   "source": [
    "from numpy import array\n",
    "from math import pow\n",
    "\n",
    "from pyspark.mllib.clustering import KMeans, KMeansModel\n",
    "\n",
    "from pyspark.sql import SparkSession\n",
    "\n",
    "spark = SparkSession.builder.appName(\"Python Clustering\").getOrCreate()\n",
    "\n",
    "\n",
    "file = \"/home/jovyan/Resources/tx.csv\"\n",
    "text = spark.sparkContext.textFile(file)\n",
    "\n",
    "txns = text.map(lambda st: st.split(\",\")).map(lambda el: (el[0], el[1], float(el[2])))\n",
    "\n",
    "# get the amounts for clustering training\n",
    "amnts = txns.map(lambda v: array([v[2]]))\n",
    "\n",
    "iterationCount = 20\n",
    "\n",
    "print(\"Within Set Sum of Squared Errors\")\n",
    "\n",
    "for clusterCount in range(1, 21):\n",
    "\n",
    "  model = KMeans.train(amnts, clusterCount, iterationCount)\n",
    "\n",
    "  wssse = model.computeCost(amnts)\n",
    "  print(str(clusterCount) + \"\\t\" + str(round(wssse)))\n"
   ]
  },
  {
   "cell_type": "markdown",
   "metadata": {},
   "source": [
    "![Optimal Cluster Count](../Resources/img/optimal_cluster_count.png)"
   ]
  }
 ],
 "metadata": {
  "kernelspec": {
   "display_name": "Python 3",
   "language": "python",
   "name": "python3"
  },
  "language_info": {
   "codemirror_mode": {
    "name": "ipython",
    "version": 3
   },
   "file_extension": ".py",
   "mimetype": "text/x-python",
   "name": "python",
   "nbconvert_exporter": "python",
   "pygments_lexer": "ipython3",
   "version": "3.6.5"
  }
 },
 "nbformat": 4,
 "nbformat_minor": 2
}
