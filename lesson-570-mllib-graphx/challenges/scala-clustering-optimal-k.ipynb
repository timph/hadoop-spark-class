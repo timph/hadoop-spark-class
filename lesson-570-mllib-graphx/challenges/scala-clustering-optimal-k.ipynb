{
 "cells": [
  {
   "cell_type": "markdown",
   "metadata": {},
   "source": [
    "# Find \"optimal\" number of clusters for transaction amounts"
   ]
  },
  {
   "cell_type": "markdown",
   "metadata": {},
   "source": [
    "In the class solution the number of desired clusters (`k`) is passed to the algorithm.\n",
    "\n",
    "How do we know that this number is optimal? Well, we don't but what we can do is assess how good it is by calculating the total distance of all clustered points from their cluster centers and compare it between different ks. This total distance is called Within Set Sum of Squared Error (`WSSSE`) and it's used by the algorithm to evaluate the quality of the clustering for a given k. You can easily compute `WSSSE` yourself or you can obtain it by calling `computeCost` function on the model.\n",
    "\n",
    "So, the lower `WSSSE` the better, but not quite as you can easily see that `WSSSE` is 0 when the number of desired clusters is the same as the number of clustered points. You cannot beat that!\n",
    "\n",
    "What we're looking for, instead, is the point where WSSSE starts decreasing slowly with increased number of k.\n",
    "\n",
    "When you plot WSSSE the optimal `k` is where there is an \"elbow\". In our case 6."
   ]
  },
  {
   "cell_type": "code",
   "execution_count": null,
   "metadata": {},
   "outputs": [],
   "source": [
    "import org.apache.spark.mllib.clustering.{KMeans, KMeansModel}\n",
    "import org.apache.spark.mllib.linalg.Vectors\n",
    "\n",
    "import org.apache.spark.sql.SparkSession\n",
    "\n",
    "val spark = SparkSession.builder.appName(\"Scala Machine Learning Clustering\").getOrCreate()\n",
    "\n",
    "val file = \"/home/jovyan/Resources/tx.csv\"\n",
    "val text = spark.sparkContext.textFile(file)\n",
    "\n",
    "val txns = text.map(s => s.split(\",\")).map(a => a(2).toFloat)\n",
    "\n",
    "// get the amounts for clustering training, the amounts need to be vectorized\n",
    "val amnts = txns.map(v => Vectors.dense(v)).cache\n",
    "\n",
    "val iterationCount = 20\n",
    "\n",
    "println(\"Within Set Sum of Squared Errors\")\n",
    "for (clusterCount <- 1 to 20) {\n",
    "  val model = KMeans.train(amnts, clusterCount, iterationCount)\n",
    "\n",
    "  val wssse = model.computeCost(amnts)\n",
    "  println(clusterCount + \"\\t\" + Math.round(wssse))\n",
    "}\n"
   ]
  },
  {
   "cell_type": "markdown",
   "metadata": {},
   "source": [
    "![Optimal Cluster Count](../Resources/img/optimal_cluster_count.png)"
   ]
  }
 ],
 "metadata": {
  "kernelspec": {
   "display_name": "Apache Toree - Scala",
   "language": "scala",
   "name": "apache_toree_scala"
  },
  "language_info": {
   "codemirror_mode": "text/x-scala",
   "file_extension": ".scala",
   "mimetype": "text/x-scala",
   "name": "scala",
   "pygments_lexer": "scala",
   "version": "2.11.8"
  }
 },
 "nbformat": 4,
 "nbformat_minor": 2
}
