{
 "cells": [
  {
   "cell_type": "markdown",
   "metadata": {},
   "source": [
    "# Find Anagrams in Sherlock Holmes"
   ]
  },
  {
   "cell_type": "code",
   "execution_count": null,
   "metadata": {},
   "outputs": [],
   "source": [
    "from pyspark.sql import SparkSession\n",
    "\n",
    "spark = SparkSession.builder.appName(\"Python Pair RDD Functions\").getOrCreate()\n",
    "\n",
    "file = \"/home/jovyan/Resources/sherlock-holmes.txt\"\n",
    "lines = spark.sparkContext.textFile(file)\n",
    "\n",
    "import re\n",
    "\n",
    "# use regular expression to split lines into words and translate them into lower case\n",
    "words = lines.flatMap(lambda w : re.split('[ \\],.:;?!\\-@#\\(\\)\\\\\\*\\\"\\/]*', w)).map(lambda w : w.lower())\n",
    "\n",
    "# select words longer than 6 letters and make them distinct\n",
    "dstnc = words.filter(lambda w : len(w) > 6).distinct()\n",
    "\n",
    "# we're creating a pair RDD where the key is the original word sorted by letters \n",
    "# and the initial value is a singleton list with the word as an element\n",
    "# any two words sharing the same sorted forms are anagrams\n",
    "\n",
    "pairs = dstnc.map(lambda w : (''.join(sorted(w)), [w]))\n",
    "\n",
    "# the reduce function is concatenating lists of words\n",
    "# map is dropping the keys as they're no loner needed\n",
    "# filter is returning only those lists, which are longer than 1 (true anagrams)\n",
    "\n",
    "angrs = pairs.reduceByKey(lambda w1, w2 : w1 + w2).map(lambda p : p[1]).filter(lambda w : len(w) > 1)\n",
    "\n",
    "for a in angrs.collect() :\n",
    "  print(a)"
   ]
  }
 ],
 "metadata": {
  "kernelspec": {
   "display_name": "Python 3",
   "language": "python",
   "name": "python3"
  },
  "language_info": {
   "codemirror_mode": {
    "name": "ipython",
    "version": 3
   },
   "file_extension": ".py",
   "mimetype": "text/x-python",
   "name": "python",
   "nbconvert_exporter": "python",
   "pygments_lexer": "ipython3",
   "version": "3.6.5"
  }
 },
 "nbformat": 4,
 "nbformat_minor": 2
}
