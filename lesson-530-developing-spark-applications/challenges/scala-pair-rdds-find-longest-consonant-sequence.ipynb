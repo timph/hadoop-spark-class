{
 "cells": [
  {
   "cell_type": "markdown",
   "metadata": {},
   "source": [
    "# Find Longest Consonant Sequence in Sherlock Holmes"
   ]
  },
  {
   "cell_type": "markdown",
   "metadata": {},
   "source": [
    "#### Find all words with maximum consonant sequence equal to the longest maximum consonant sequence in book"
   ]
  },
  {
   "cell_type": "code",
   "execution_count": null,
   "metadata": {
    "scrolled": true
   },
   "outputs": [],
   "source": [
    "import org.apache.spark.sql.SparkSession\n",
    "\n",
    "val spark = SparkSession.builder.appName(\"Scala Maximum consonant sequence\").getOrCreate()\n",
    "\n",
    "// Function returning the longest consonant sequence in a word\n",
    "def maxCons(s: String) = {\n",
    "\n",
    "    val re = \"[bcdfghjklmnpqrstvxz]+\".r\n",
    "    var max = \"\"\n",
    "    for (c <- re.findAllIn(s)) {\n",
    "        if (c.length > max.length) {\n",
    "            max = c\n",
    "        }\n",
    "    }\n",
    "    max\n",
    "}\n",
    "\n",
    "val lns = spark.sparkContext.textFile(\"/home/jovyan/Resources/sherlock-holmes.txt\")\n",
    "\n",
    "// We're using a regular expression matching letter sequences to extract words\n",
    "val re = \"[a-z]+\".r\n",
    "val wrd = lns.map(l => l.toLowerCase).flatMap(s => re.findAllIn(s).toList).distinct\n",
    "val cns = wrd.map(w => (w, maxCons(w)))\n",
    "\n",
    "// Getting maximum length of any consonant sequence in the book\n",
    "val cnt = cns.map(c => (c._2.length))\n",
    "val maxCns = cnt.reduce((r, c) => if (c > r) c else r)\n",
    "\n",
    "val topCns = cns.filter(c => c._2.length == maxCns)\n",
    "\n",
    "topCns.collect.foreach(println(_))"
   ]
  }
 ],
 "metadata": {
  "kernelspec": {
   "display_name": "Apache Toree - Scala",
   "language": "scala",
   "name": "apache_toree_scala"
  },
  "language_info": {
   "codemirror_mode": "text/x-scala",
   "file_extension": ".scala",
   "mimetype": "text/x-scala",
   "name": "scala",
   "pygments_lexer": "scala",
   "version": "2.11.8"
  }
 },
 "nbformat": 4,
 "nbformat_minor": 2
}
