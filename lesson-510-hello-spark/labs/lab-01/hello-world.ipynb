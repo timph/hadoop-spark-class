{
 "cells": [
  {
   "cell_type": "markdown",
   "metadata": {},
   "source": [
    "# Hello World"
   ]
  },
  {
   "cell_type": "markdown",
   "metadata": {},
   "source": [
    "This is a simple example of a notebook. \n",
    "The notebook allows me to combine code and text interactively.\n",
    "\n",
    "For example, the little box below contains a bit of code. \n",
    "\n",
    "```scala\n",
    "print(\"Hello World\")\n",
    "```\n",
    "\n",
    "You can run the cell below by selecting it and either clicking the run button above or use a hot key (configurable, but Option-Enter or Control-Enter on a Mac)."
   ]
  },
  {
   "cell_type": "code",
   "execution_count": null,
   "metadata": {},
   "outputs": [],
   "source": [
    "print (\"Hello world\")"
   ]
  },
  {
   "cell_type": "markdown",
   "metadata": {},
   "source": [
    "This notebook happened to be setup for Scala, but you can setup notebooks to support many languages. Another popular language that we'll support in this course for Notebooks is Python. \n",
    "\n",
    "The previous example was a bit trivial, but you can also write more complex statements. \n",
    "\n",
    "E.g., I could write a function that allowed me to get the n'th Fibonacci number this way:"
   ]
  },
  {
   "cell_type": "code",
   "execution_count": null,
   "metadata": {},
   "outputs": [],
   "source": [
    "def fib1( n : Int) : Int = n match {\n",
    "   case 0 | 1 => n\n",
    "   case _ => fib1( n-1 ) + fib1( n-2 )\n",
    "}"
   ]
  },
  {
   "cell_type": "markdown",
   "metadata": {},
   "source": [
    "Of course, you could now use this function later on in the story. Try to execute the statement below:"
   ]
  },
  {
   "cell_type": "code",
   "execution_count": null,
   "metadata": {},
   "outputs": [],
   "source": [
    "fib1(10)"
   ]
  },
  {
   "cell_type": "markdown",
   "metadata": {},
   "source": [
    "Pretty cool, huh?!\n",
    "\n",
    "You can also enter your own code. Try entering the text:\n",
    "\n",
    "```scala\n",
    "fib1(40)\n",
    "```\n",
    "in the box below and run the cell."
   ]
  },
  {
   "cell_type": "code",
   "execution_count": null,
   "metadata": {},
   "outputs": [],
   "source": []
  },
  {
   "cell_type": "markdown",
   "metadata": {},
   "source": [
    "What was the result? Did you get the value `102334155`??? If so, you just wrote your first statement in a notebook."
   ]
  },
  {
   "cell_type": "markdown",
   "metadata": {},
   "source": [
    "While we're on the topic of Fibonacci, let's create a function that generates a list of Fibonacci numbers:"
   ]
  },
  {
   "cell_type": "code",
   "execution_count": null,
   "metadata": {},
   "outputs": [],
   "source": [
    "val fibs: Stream[Int] = 0 #:: fibs.scanLeft(1)(_ + _)"
   ]
  },
  {
   "cell_type": "markdown",
   "metadata": {},
   "source": [
    "This is a style where we create a stream of infinite Fibonacci numbers and the specify what we want to use. So to execute this, we may do something like this (you'll probably see a warning, but don't mind that for now):"
   ]
  },
  {
   "cell_type": "code",
   "execution_count": null,
   "metadata": {},
   "outputs": [],
   "source": [
    "fibs take 10 toList"
   ]
  },
  {
   "cell_type": "markdown",
   "metadata": {},
   "source": [
    "That may have been a bit harder to understand and you might want to start annotating this notebook with your own comments. \n",
    "Anywhere in this notebook, you can add a cell above or below existing cells. Perhaps you want to play around with this code to make sure you understand the code.\n",
    "With this cell selected, simply go up to the menu and select `Cell --> Insert Cell Below`. You should now get your own cell below this cell. \n",
    "This cell would by default be setup to run Scala code. Try executing some code in the cell..."
   ]
  },
  {
   "cell_type": "markdown",
   "metadata": {},
   "source": [
    "Perhpas you want to add some comments to this? If so, simply add another cell anywhere in this notebook and change the type of the cell to 'Markdown' (you should see the option in a dropdown that you can find in the toolbar for Jupyter).\n"
   ]
  },
  {
   "cell_type": "markdown",
   "metadata": {},
   "source": [
    "If you want to save any of the changes that you've made to this Notebook, you should download the notebook. In an enterprise setting, this would not be the way to do things, but we've setup the way we run docker to where the persistence is ephemeral (lasting only while the docker instance runs). So, let's show you how to do that also.\n",
    "On the menu bar for Jupyter you should see the option `File --> Download As`. You can export your notebook as a:\n",
    "\n",
    "* Notebook (duh... of course)\n",
    "* Scala (or Python if you were in a Python Notebook). This would scrape away all the notes and leave only the code!\n",
    "* And a few other formats for print (HTML, LaTex, PDF, etc.)"
   ]
  },
  {
   "cell_type": "markdown",
   "metadata": {},
   "source": [
    "That's it for now. You should be all set!"
   ]
  }
 ],
 "metadata": {
  "kernelspec": {
   "display_name": "Apache Toree - Scala",
   "language": "scala",
   "name": "apache_toree_scala"
  },
  "language_info": {
   "codemirror_mode": "text/x-scala",
   "file_extension": ".scala",
   "mimetype": "text/x-scala",
   "name": "scala",
   "pygments_lexer": "scala",
   "version": "2.11.8"
  }
 },
 "nbformat": 4,
 "nbformat_minor": 2
}
