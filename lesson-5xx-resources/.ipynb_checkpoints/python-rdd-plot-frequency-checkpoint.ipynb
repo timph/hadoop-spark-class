{
 "cells": [
  {
   "cell_type": "markdown",
   "metadata": {},
   "source": [
    "# Plot Bar Graph showing top 10 words in Sherlock Holmes"
   ]
  },
  {
   "cell_type": "code",
   "execution_count": null,
   "metadata": {
    "scrolled": true
   },
   "outputs": [],
   "source": [
    "from operator import add\n",
    "from pyspark.sql import SparkSession\n",
    "\n",
    "spark = SparkSession.builder.appName(\"Plot word frequency\").getOrCreate()\n",
    "\n",
    "text = spark.sparkContext.textFile(\"/home/jovyan/Resources/sherlock-holmes.txt\")\n",
    "\n",
    "import re\n",
    "\n",
    "# use regular expression to split lines into words and translate them into lower case\n",
    "words = text.flatMap(lambda w : re.split('[ \\],.:;?!\\-@#\\(\\)\\\\\\*\\\"\\/]*', w)).filter(lambda w: len(w) > 0).map(lambda w : w.upper())\n",
    "\n",
    "# map each word to a pair with word as key and initial count 1\n",
    "# then reduce by key getting the total counts for each word\n",
    "pairs = words.map(lambda w : (w, 1)).reduceByKey(add)\n",
    "\n",
    "top = pairs.takeOrdered(10, key = lambda x: -x[1])\n",
    "top.reverse()\n",
    "\n",
    "labels = list(map(lambda x: x[0], top))\n",
    "values = list(map(lambda x: x[1], top))\n",
    "\n",
    "import matplotlib.pyplot as plt\n",
    "\n",
    "plt.barh(range(len(values)), values)\n",
    "plt.yticks(range(len(values)), labels)\n",
    "plt.show()\n"
   ]
  },
  {
   "cell_type": "markdown",
   "metadata": {},
   "source": [
    "# Plot Bar Graph showing letter frequency in Sherlock Holmes"
   ]
  },
  {
   "cell_type": "code",
   "execution_count": null,
   "metadata": {},
   "outputs": [],
   "source": [
    "from operator import add\n",
    "from pyspark.sql import SparkSession\n",
    "\n",
    "spark = SparkSession.builder.appName(\"Plot letter frequency\").getOrCreate()\n",
    "\n",
    "text = spark.sparkContext.textFile(\"/home/jovyan/Resources/sherlock-holmes.txt\")\n",
    "\n",
    "# split lines into characters and extract letters only\n",
    "words = text.flatMap(lambda w : list(w)).map(lambda w : w.upper()).filter(lambda w: w >= 'A' and w <= 'Z')\n",
    "\n",
    "# map each letter to a pair with letter as key and initial count 1\n",
    "# then reduce by key getting the total counts for each letter\n",
    "pairs = words.map(lambda w : (w, 1)).reduceByKey(add)\n",
    "\n",
    "sorted = pairs.sortByKey().collect()\n",
    "\n",
    "labels = list(map(lambda x: x[0], sorted))\n",
    "values = list(map(lambda x: x[1], sorted))\n",
    "\n",
    "import matplotlib.pyplot as plt\n",
    "\n",
    "plt.bar(range(len(values)), values, color='red')\n",
    "plt.xticks(range(len(values)), labels)\n",
    "plt.show()\n"
   ]
  },
  {
   "cell_type": "code",
   "execution_count": null,
   "metadata": {},
   "outputs": [],
   "source": []
  }
 ],
 "metadata": {
  "kernelspec": {
   "display_name": "Python 3",
   "language": "python",
   "name": "python3"
  },
  "language_info": {
   "codemirror_mode": {
    "name": "ipython",
    "version": 3
   },
   "file_extension": ".py",
   "mimetype": "text/x-python",
   "name": "python",
   "nbconvert_exporter": "python",
   "pygments_lexer": "ipython3",
   "version": "3.6.5"
  }
 },
 "nbformat": 4,
 "nbformat_minor": 2
}
