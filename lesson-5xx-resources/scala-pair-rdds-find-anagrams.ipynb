{
 "cells": [
  {
   "cell_type": "markdown",
   "metadata": {},
   "source": [
    "# Find Anagrams in Sherlock Holmes"
   ]
  },
  {
   "cell_type": "markdown",
   "metadata": {},
   "source": [
    "- #### Find all anagrams of words longer than 6 letters \n",
    "- #### Find the longest list of anagrams for word\n",
    "- #### Find the longest word with anagrams"
   ]
  },
  {
   "cell_type": "code",
   "execution_count": null,
   "metadata": {
    "scrolled": true
   },
   "outputs": [],
   "source": [
    "import org.apache.spark.sql.SparkSession\n",
    "\n",
    "val spark = SparkSession.builder.appName(\"Scala Pair RDD Functions\").getOrCreate\n",
    "\n",
    "val lines = spark.sparkContext.textFile(\"/home/jovyan/Resources/sherlock-holmes.txt\")\n",
    "\n",
    "val pattern = \"[a-z]+\".r\n",
    "\n",
    "// use regular expression to split lines into words and translate them into lower case\n",
    "val words = lines.map(w => w.toLowerCase).flatMap(l => pattern.findAllIn(l))\n",
    "\n",
    "// select words longer than 6 letters and make them distinct\n",
    "val dstnc = words.filter(w => w.length > 6).distinct()\n",
    "\n",
    "// we're creating a pair RDD where the key is the original word sorted by letters \n",
    "// and the initial value is a singleton list with the word as an element\n",
    "// any two words sharing the same sorted forms are anagrams\n",
    "\n",
    "val pairs = dstnc.map(w => (w.toList.sorted.mkString, Array(w)))\n",
    "\n",
    "// the reduce function is concatenating lists of words\n",
    "// map is dropping the keys as they're no loner needed\n",
    "// filter is returning only those lists, which are longer than 1 (true anagrams)\n",
    "\n",
    "val angrs = pairs.reduceByKey((w1, w2) => w1 ++ w2).map(p => p._2).filter(w => w.size > 1)\n",
    "\n",
    "println(\"All anagrams of words longer than 6 letters\\n\")\n",
    "for (l <- angrs.collect()) {\n",
    "    for (a <- l) {\n",
    "        print(a + \" \")\n",
    "    }\n",
    "  println\n",
    "}\n",
    "\n",
    "val maxList = angrs.map(a => (a, a.size)).reduce((r, c) => if (r._2 > c._2) r else c)\n",
    "println(\"\\nThe longest list of anagrams for word\\n\")\n",
    "for (a <- maxList._1) {\n",
    "    print(a + \" \")\n",
    "}\n",
    "println\n",
    "\n",
    "val maxSize = angrs.map(a => (a, a(0).length)).reduce((r, c) => if (r._2 > c._2) r else c)\n",
    "println(\"\\nThe longest word with anagrams\\n\")\n",
    "for (a <- maxSize._1) {\n",
    "    print(a + \" \")\n",
    "}\n",
    "println\n"
   ]
  }
 ],
 "metadata": {
  "kernelspec": {
   "display_name": "Apache Toree - Scala",
   "language": "scala",
   "name": "apache_toree_scala"
  },
  "language_info": {
   "codemirror_mode": "text/x-scala",
   "file_extension": ".scala",
   "mimetype": "text/x-scala",
   "name": "scala",
   "pygments_lexer": "scala",
   "version": "2.11.8"
  }
 },
 "nbformat": 4,
 "nbformat_minor": 2
}
