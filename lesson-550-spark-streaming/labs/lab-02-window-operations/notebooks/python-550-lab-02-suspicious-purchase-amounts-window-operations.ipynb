{
 "cells": [
  {
   "cell_type": "markdown",
   "metadata": {},
   "source": [
    "# Suspicious Purchase Amounts with Window Operations\n",
    "\n",
    "In this lab, you will see how to use Spark Streaming's support for windowed operations to identify suspicious activity from a stream of purchase data."
   ]
  },
  {
   "cell_type": "markdown",
   "metadata": {},
   "source": [
    "## Objectives\n",
    "\n",
    "Use Spark Streaming's support for sliding windows of data to watch an incoming stream of transactions to determine the presence of anomalies.\n"
   ]
  },
  {
   "cell_type": "markdown",
   "metadata": {},
   "source": [
    "## Instructions\n",
    "\n",
    "We're going to take a look (ok, a *naive* look) at how Spark Streaming can be used to watch for fraudulent financial activity.  To do so, we're going to stream simplified transaction data to our program, which will, in turn, continuously calculate statistical information based on time-delineated, sliding windows of data about the stream and use it to identify potentially fraudulent activity."
   ]
  },
  {
   "cell_type": "markdown",
   "metadata": {},
   "source": [
    "## Create Spark Session"
   ]
  },
  {
   "cell_type": "code",
   "execution_count": null,
   "metadata": {},
   "outputs": [],
   "source": [
    "from pyspark.sql import SparkSession\n",
    "\n",
    "spark = SparkSession.builder.appName(\"Python Streaming\").getOrCreate()\n"
   ]
  },
  {
   "cell_type": "markdown",
   "metadata": {},
   "source": [
    "## Create Streaming Context with Batch Interval Duration"
   ]
  },
  {
   "cell_type": "code",
   "execution_count": null,
   "metadata": {},
   "outputs": [],
   "source": [
    "from pyspark.streaming import StreamingContext\n",
    "\n",
    "# the duration is in seconds\n",
    "intervalDuration = 2\n",
    "\n",
    "ssc = StreamingContext(spark.sparkContext, intervalDuration)\n",
    "\n",
    "# checkpoint for backups\n",
    "ssc.checkpoint(\"checkpoint\")\n"
   ]
  },
  {
   "cell_type": "markdown",
   "metadata": {},
   "source": [
    "## Transaction Anomalies\n",
    "\n",
    "We'll define a transaction anomaly as a transaction with debit exceeding the average debits in the transaction streaming window.\n",
    "\n",
    "In order to determine the average we will reduce the debits calling the reduceByKeyAndWindow function:\n",
    "\n",
    "```python\n",
    "reduceByKeyAndWindow(func, invFunc, windowLength, slideInterval)\n",
    "```\n",
    "\n",
    "where the reduce value of each window is calculated incrementally using the reduce values of the previous window. \n",
    "\n",
    "This is done by reducing the new data that enters the sliding window, and \"inverse reducing\" the old data that leaves the window. \n",
    "\n",
    "```windowLength``` is the length of the streaming window in seconds; it must me a multiple of ```intervalDuration```.\n",
    "\n",
    "```slideInterval``` is the interval at which the window operation is performed; it must me a multiple of ```intervalDuration```.\n"
   ]
  },
  {
   "cell_type": "markdown",
   "metadata": {},
   "source": [
    "## Define \"reduce\" and \"inverse reduce\" Functions"
   ]
  },
  {
   "cell_type": "code",
   "execution_count": null,
   "metadata": {},
   "outputs": [],
   "source": [
    "# amount reduce function for the transactions that entered the window\n",
    "def add(r, c):\n",
    "   count  = r[0]+c[0]\n",
    "   amount = r[1]+c[1]\n",
    "   mean   = amount/count if count != 0 else 0\n",
    "\n",
    "   return (count, amount, mean)\n",
    "\n",
    "# inverse amount reduce function for the transactions that left the window\n",
    "def sub(r, c):\n",
    "   count  = r[0]-c[0]\n",
    "   amount = r[1]-c[1]\n",
    "   mean   = amount/count if count != 0 else 0\n",
    "\n",
    "   return (count, amount, mean)\n"
   ]
  },
  {
   "cell_type": "markdown",
   "metadata": {},
   "source": [
    "## Create Socket Stream"
   ]
  },
  {
   "cell_type": "code",
   "execution_count": null,
   "metadata": {},
   "outputs": [],
   "source": [
    "hostname = \"nc\"\n",
    "port = 9999\n",
    "\n",
    "# create a DStream that will connect to hostname:port\n",
    "lines = ssc.socketTextStream(hostname, port)\n"
   ]
  },
  {
   "cell_type": "markdown",
   "metadata": {},
   "source": [
    "## Parse Transactions and Identify Debits"
   ]
  },
  {
   "cell_type": "code",
   "execution_count": null,
   "metadata": {},
   "outputs": [],
   "source": [
    "# parsing transactions\n",
    "rawTxns = lines.map(lambda st: st.split(\",\")).map(lambda el: (el[0], el[1], float(el[2])))\n",
    "\n",
    "# filtering transactions for purchases only\n",
    "debitTxns = rawTxns.filter(lambda s: s[2] < 0)\n"
   ]
  },
  {
   "cell_type": "markdown",
   "metadata": {},
   "source": [
    "We need to add the key to transactions to be able to compare with the amount average.\n",
    "\n",
    "In the real application it would be more natural to use the account id as the key.\n"
   ]
  },
  {
   "cell_type": "code",
   "execution_count": null,
   "metadata": {},
   "outputs": [],
   "source": [
    "keyedTxns = debitTxns.map(lambda s: (1, s))\n"
   ]
  },
  {
   "cell_type": "markdown",
   "metadata": {},
   "source": [
    "## Reduce Debit Amounts in Window"
   ]
  },
  {
   "cell_type": "code",
   "execution_count": null,
   "metadata": {},
   "outputs": [],
   "source": [
    "windowDuration   = 3*intervalDuration  # window interval duration\n",
    "slidingDuration  = 1*intervalDuration  # sliding duration\n",
    "\n",
    "amounts = debitTxns.map(lambda s: (1, (1, s[2], s[2])))\n",
    "meanAmount = amounts.reduceByKeyAndWindow(lambda r, c: add(r, c), lambda r, c: sub(r, c), windowDuration, slidingDuration)\n"
   ]
  },
  {
   "cell_type": "markdown",
   "metadata": {},
   "source": [
    "## Join Transactions and Reduced Debits Streams"
   ]
  },
  {
   "cell_type": "code",
   "execution_count": null,
   "metadata": {},
   "outputs": [],
   "source": [
    "joinedTxns = keyedTxns.join(meanAmount)\n"
   ]
  },
  {
   "cell_type": "markdown",
   "metadata": {},
   "source": [
    "## Identify Suspicious Transactions"
   ]
  },
  {
   "cell_type": "code",
   "execution_count": null,
   "metadata": {},
   "outputs": [],
   "source": [
    "fraud_factor = 1.33\n",
    "\n",
    "suspiciousTxns = joinedTxns.map(lambda v: v[1]).filter(lambda t: t[0][2] < t[1][2]*fraud_factor).map(lambda t: t[0])\n",
    "\n",
    "suspiciousTxns.pprint()\n"
   ]
  },
  {
   "cell_type": "markdown",
   "metadata": {},
   "source": [
    "## Start Streaming"
   ]
  },
  {
   "cell_type": "code",
   "execution_count": null,
   "metadata": {
    "scrolled": true
   },
   "outputs": [],
   "source": [
    "ssc.start()             # starting the computation\n",
    "ssc.awaitTermination()  # waiting for the computation to terminate\n"
   ]
  },
  {
   "cell_type": "markdown",
   "metadata": {},
   "source": [
    "### Simulate transaction source\n",
    "\n",
    "We will be receiving transaction data on port 9999.  There's a convenient utility in most Unix-like systems called `nc` (\"netcat\") that will take data from `stdin` and pipe it to a designated socket.\n",
    "\n",
    "> Note:  Windows systems should have a similar command called `ncat`.\n",
    "\n",
    "For our application, this will be `localhost` on port `9999`, of course.\n",
    "\n",
    "Open a new terminal and, if you're on Linux, issue the command\n",
    "\n",
    "``` \n",
    "nc localhost 9999\n",
    "```\n",
    "\n",
    "If you're on Mac, issue the command\n",
    "\n",
    "``` \n",
    "nc -lk 9999\n",
    "```\n",
    "\n",
    "Check your documentation if you're on Windows (I'll avoid the obligatory snide \"Windoze\" or other remark here).\n",
    "\n",
    "If there's an error, diagnose & correct it.  Otherwise, you should see the cursor on the next line, waiting for input on `stdin`.  Leave that process be for the moment; we're going to return to our program now and come back to it when we're ready to stream data.\n",
    "\n",
    "Copy and paste a large amount of transaction data from tx.csv file."
   ]
  },
  {
   "cell_type": "markdown",
   "metadata": {},
   "source": [
    "## Conclusion\n",
    "\n",
    "In this lab, you saw how Spark Streaming's support for window operations can be used to process continuously streamed data and handle it not only with ease, but also with nearly the same API and programming concepts as batch data!"
   ]
  },
  {
   "cell_type": "markdown",
   "metadata": {},
   "source": [
    "## Complete Solution"
   ]
  },
  {
   "cell_type": "code",
   "execution_count": null,
   "metadata": {},
   "outputs": [],
   "source": [
    "from pyspark.sql import SparkSession\n",
    "\n",
    "spark = SparkSession.builder.appName(\"Python Streaming\").getOrCreate()\n",
    "\n",
    "from pyspark.streaming import StreamingContext\n",
    "\n",
    "# the duration is in seconds\n",
    "intervalDuration = 2\n",
    "\n",
    "ssc = StreamingContext(spark.sparkContext, intervalDuration)\n",
    "\n",
    "# checkpoint for backups\n",
    "ssc.checkpoint(\"checkpoint\")\n",
    "\n",
    "\n",
    "# amount reduce function for the transactions that entered the window\n",
    "def add(r, c):\n",
    "   count  = r[0]+c[0]\n",
    "   amount = r[1]+c[1]\n",
    "   mean   = amount/count if count != 0 else 0\n",
    "\n",
    "   return (count, amount, mean)\n",
    "\n",
    "# inverse amount reduce function for the transactions that left the window\n",
    "def sub(r, c):\n",
    "   count  = r[0]-c[0]\n",
    "   amount = r[1]-c[1]\n",
    "   mean   = amount/count if count != 0 else 0\n",
    "\n",
    "   return (count, amount, mean)\n",
    "\n",
    "\n",
    "hostname = \"nc\"\n",
    "port = 9999\n",
    "\n",
    "# create a DStream that will connect to hostname:port\n",
    "lines = ssc.socketTextStream(hostname, port)\n",
    "\n",
    "# parsing transactions\n",
    "rawTxns = lines.map(lambda st: st.split(\",\")).map(lambda el: (el[0], el[1], float(el[2])))\n",
    "\n",
    "# filtering transactions for purchases only\n",
    "debitTxns = rawTxns.filter(lambda s: s[2] < 0)\n",
    "\n",
    "# we need to add the key to transactions to be able to compare with the amount mean\n",
    "# in the real application it would be more natural to use the account id as the key\n",
    "keyedTxns = debitTxns.map(lambda s: (1, s))\n",
    "\n",
    "windowDuration   = 3*intervalDuration  # window interval duration\n",
    "slidingDuration  = 1*intervalDuration  # sliding duration\n",
    "\n",
    "amounts = debitTxns.map(lambda s: (1, (1, s[2], s[2])))\n",
    "meanAmount = amounts.reduceByKeyAndWindow(lambda r, c: add(r, c), lambda r, c: sub(r, c), windowDuration, slidingDuration)\n",
    "\n",
    "fraud_factor = 1.33\n",
    "\n",
    "# joining two streams with the purchase transactions and the mean\n",
    "joinedTxns = keyedTxns.join(meanAmount)\n",
    "\n",
    "# getting suspicious purchases\n",
    "suspiciousTxns = joinedTxns.map(lambda v: v[1]).filter(lambda t: t[0][2] < t[1][2]*fraud_factor).map(lambda t: t[0])\n",
    "\n",
    "suspiciousTxns.pprint()\n",
    "\n",
    "ssc.start()             # starting the computation\n",
    "ssc.awaitTermination()  # waiting for the computation to terminate\n"
   ]
  }
 ],
 "metadata": {
  "kernelspec": {
   "display_name": "Python 3",
   "language": "python",
   "name": "python3"
  },
  "language_info": {
   "codemirror_mode": {
    "name": "ipython",
    "version": 3
   },
   "file_extension": ".py",
   "mimetype": "text/x-python",
   "name": "python",
   "nbconvert_exporter": "python",
   "pygments_lexer": "ipython3",
   "version": "3.6.5"
  }
 },
 "nbformat": 4,
 "nbformat_minor": 2
}
