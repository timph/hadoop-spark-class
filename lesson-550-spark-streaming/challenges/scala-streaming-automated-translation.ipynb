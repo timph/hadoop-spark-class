{
 "cells": [
  {
   "cell_type": "markdown",
   "metadata": {},
   "source": [
    "# Real Time Translation of Streamed Text into German"
   ]
  },
  {
   "cell_type": "code",
   "execution_count": null,
   "metadata": {},
   "outputs": [],
   "source": [
    "import org.apache.spark.sql.SparkSession\n",
    "import org.apache.spark._\n",
    "import org.apache.spark.streaming._\n",
    "import org.apache.spark.streaming.StreamingContext._ \n",
    "import scala.io.Source\n",
    "\n",
    "// the duration in seconds\n",
    "val intervalDuration = 2\n",
    "\n",
    "// val spark = SparkSession.builder.appName(\"Scala Automated Translation\").getOrCreate()\n",
    "// val sc = spark.sparkContext\n",
    "// val ssc = new StreamingContext(sc, intervalDuration)\n",
    "\n",
    "val conf = new SparkConf().setAppName(\"Scala Automated Translation\").setMaster(\"local[*]\")\n",
    "val ssc = new StreamingContext(conf, Seconds(intervalDuration))\n",
    "\n",
    "def getDictionary = {\n",
    "  val url=\"http://www.june29.com/idp/files/German.txt\"\n",
    "\n",
    "  val s1 = Source.fromURL(url, \"ISO-8859-1\").mkString\n",
    "  val s2 = s1.split(\"\\r?\\n\")\n",
    "  val s3 = s2.filter(line => !line.startsWith(\"#\"))\n",
    "  val s4 = s3.map(line => line.split(\"\\t\")).map(s => (s(0), s(1))).toMap\n",
    "  s4\n",
    "}\n",
    "\n",
    "val dct = getDictionary\n",
    "\n",
    "val hostname = \"nc\"\n",
    "val port = 9999\n",
    "\n",
    "// create a DStream that will connect to hostname:port\n",
    "val lines = ssc.socketTextStream(hostname, port)\n",
    "\n",
    "val trns = lines.map(line => line.split(\"\\\\s+\").map(word => dct.getOrElse(word, word)).mkString(\" \")).cache\n",
    "  \n",
    "trns.print()\n",
    "\n",
    "ssc.start()             // starting the computation\n",
    "ssc.awaitTermination()  // waiting for the computation to terminate"
   ]
  }
 ],
 "metadata": {
  "kernelspec": {
   "display_name": "Apache Toree - Scala",
   "language": "scala",
   "name": "apache_toree_scala"
  },
  "language_info": {
   "codemirror_mode": "text/x-scala",
   "file_extension": ".scala",
   "mimetype": "text/x-scala",
   "name": "scala",
   "pygments_lexer": "scala",
   "version": "2.11.8"
  }
 },
 "nbformat": 4,
 "nbformat_minor": 2
}
